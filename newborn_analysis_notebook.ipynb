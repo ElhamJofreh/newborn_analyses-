{
 "cells": [
  {
   "cell_type": "markdown",
   "id": "e7b97784",
   "metadata": {},
   "source": [
    "# 🧼 Newborn Screening Data Analysis - Jupyter Notebook\n",
    "This notebook covers data cleaning, exploration, visualization, and regression modeling on newborn screening data."
   ]
  },
  {
   "cell_type": "markdown",
   "id": "4518bc08",
   "metadata": {},
   "source": [
    "## 🔹 Step 1: Primary Cleaning"
   ]
  },
  {
   "cell_type": "code",
   "execution_count": null,
   "id": "5cc3e0f8",
   "metadata": {},
   "outputs": [],
   "source": [
    "\n",
    "import pandas as pd\n",
    "import numpy as np\n",
    "import seaborn as sns\n",
    "import matplotlib.pyplot as plt\n",
    "import statsmodels.api as sm\n",
    "\n",
    "# Load data\n",
    "df = pd.read_excel(\"newborn.xlsx\", sheet_name=\"source\")\n",
    "\n",
    "# Select and clean relevant columns\n",
    "columns_to_keep = [\n",
    "    'California Region',\n",
    "    'Disease Type',\n",
    "    'Case\\nCount',\n",
    "    'Number\\nScreened',\n",
    "    'Percent\\nof All\\nDisorders\\nin Region'\n",
    "]\n",
    "df_main = df[columns_to_keep].copy()\n",
    "df_main.columns = (\n",
    "    df_main.columns.str.replace(r'\\n', ' ', regex=True)\n",
    "                   .str.strip()\n",
    "                   .str.lower()\n",
    "                   .str.replace(r'\\s+', '_', regex=True)\n",
    ")\n",
    "df_main.head()\n"
   ]
  },
  {
   "cell_type": "markdown",
   "id": "32427b85",
   "metadata": {},
   "source": [
    "## 🔍 Step 2: Missing Values and Data Types"
   ]
  },
  {
   "cell_type": "code",
   "execution_count": null,
   "id": "85e78179",
   "metadata": {},
   "outputs": [],
   "source": [
    "\n",
    "df_main.isnull().sum(), df_main.dtypes\n"
   ]
  },
  {
   "cell_type": "markdown",
   "id": "eb9a4b88",
   "metadata": {},
   "source": [
    "## ⚠️ Step 3: Outlier Detection"
   ]
  },
  {
   "cell_type": "code",
   "execution_count": null,
   "id": "eff531cf",
   "metadata": {},
   "outputs": [],
   "source": [
    "\n",
    "def find_outliers_iqr(data, column):\n",
    "    q1 = data[column].quantile(0.25)\n",
    "    q3 = data[column].quantile(0.75)\n",
    "    iqr = q3 - q1\n",
    "    lower_bound = q1 - 1.5 * iqr\n",
    "    upper_bound = q3 + 1.5 * iqr\n",
    "    return data[(data[column] < lower_bound) | (data[column] > upper_bound)]\n",
    "\n",
    "outlier_rows = pd.DataFrame()\n",
    "for col in ['case_count', 'number_screened', 'percent_of_all_disorders_in_region']:\n",
    "    outliers = find_outliers_iqr(df_main, col)\n",
    "    if not outliers.empty:\n",
    "        outliers = outliers.copy()\n",
    "        outliers['outlier_column'] = col\n",
    "        outlier_rows = pd.concat([outlier_rows, outliers], ignore_index=True)\n",
    "outlier_rows\n"
   ]
  },
  {
   "cell_type": "markdown",
   "id": "f997be4c",
   "metadata": {},
   "source": [
    "## 🔢 Step 4: Unique Value Checks"
   ]
  },
  {
   "cell_type": "code",
   "execution_count": null,
   "id": "f6a13152",
   "metadata": {},
   "outputs": [],
   "source": [
    "\n",
    "df_main['california_region'].nunique(), df_main['disease_type'].nunique()\n"
   ]
  },
  {
   "cell_type": "markdown",
   "id": "b1ecf42c",
   "metadata": {},
   "source": [
    "## 📊 Step 5: Descriptive Statistics"
   ]
  },
  {
   "cell_type": "code",
   "execution_count": null,
   "id": "34aed3e5",
   "metadata": {},
   "outputs": [],
   "source": [
    "\n",
    "df_main.describe().T\n"
   ]
  },
  {
   "cell_type": "markdown",
   "id": "32fe971f",
   "metadata": {},
   "source": [
    "## 📈 Step 6: Visualizations"
   ]
  },
  {
   "cell_type": "code",
   "execution_count": null,
   "id": "17fc6d42",
   "metadata": {},
   "outputs": [],
   "source": [
    "\n",
    "plt.figure(figsize=(10, 6))\n",
    "sns.barplot(data=df_main, x=\"california_region\", y=\"case_count\", estimator=sum)\n",
    "plt.xticks(rotation=45)\n",
    "plt.title(\"Total Case Count by Region\")\n",
    "plt.tight_layout()\n",
    "plt.show()\n",
    "\n",
    "sns.barplot(data=df_main, x=\"california_region\", y=\"percent_of_all_disorders_in_region\", estimator=np.mean)\n",
    "plt.xticks(rotation=45)\n",
    "plt.title(\"Average Disorder % by Region\")\n",
    "plt.tight_layout()\n",
    "plt.show()\n",
    "\n",
    "sns.scatterplot(data=df_main, x=\"number_screened\", y=\"case_count\", hue=\"california_region\")\n",
    "plt.title(\"Number Screened vs Case Count\")\n",
    "plt.tight_layout()\n",
    "plt.show()\n"
   ]
  },
  {
   "cell_type": "markdown",
   "id": "73e8204d",
   "metadata": {},
   "source": [
    "## 📋 Step 7: Grouping & Categorization"
   ]
  },
  {
   "cell_type": "code",
   "execution_count": null,
   "id": "8275c56f",
   "metadata": {},
   "outputs": [],
   "source": [
    "\n",
    "df_main.groupby('california_region')['disease_type'].nunique()\n",
    "df_main.groupby('disease_type')['california_region'].nunique()\n"
   ]
  },
  {
   "cell_type": "markdown",
   "id": "37725762",
   "metadata": {},
   "source": [
    "## 📉 Step 8: Simple Linear Regression"
   ]
  },
  {
   "cell_type": "code",
   "execution_count": null,
   "id": "700047fb",
   "metadata": {},
   "outputs": [],
   "source": [
    "\n",
    "X = sm.add_constant(df_main['number_screened'])\n",
    "y = df_main['case_count']\n",
    "model = sm.OLS(y, X).fit()\n",
    "model.summary()\n"
   ]
  },
  {
   "cell_type": "markdown",
   "id": "10a799b7",
   "metadata": {},
   "source": [
    "## 📊 Step 9: Multiple Linear Regression"
   ]
  },
  {
   "cell_type": "code",
   "execution_count": null,
   "id": "78e77f92",
   "metadata": {},
   "outputs": [],
   "source": [
    "\n",
    "df_encoded = pd.get_dummies(df_main, columns=['california_region'], drop_first=True)\n",
    "X_multi = sm.add_constant(df_encoded.drop(columns=['case_count', 'disease_type']))\n",
    "y_multi = df_encoded['case_count']\n",
    "multi_model = sm.OLS(y_multi, X_multi).fit()\n",
    "multi_model.summary()\n"
   ]
  }
 ],
 "metadata": {},
 "nbformat": 4,
 "nbformat_minor": 5
}