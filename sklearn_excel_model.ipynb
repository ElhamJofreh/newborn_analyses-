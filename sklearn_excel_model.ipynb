{
 "cells": [
  {
   "cell_type": "markdown",
   "id": "4b201613",
   "metadata": {},
   "source": [
    "# Scikit-learn Linear Regression Model\n",
    "This notebook trains a linear regression model on newborn screening data."
   ]
  },
  {
   "cell_type": "code",
   "execution_count": null,
   "id": "3622340f",
   "metadata": {},
   "outputs": [],
   "source": [
    "import pandas as pd\n",
    "import numpy as np\n",
    "import matplotlib.pyplot as plt\n",
    "from sklearn.linear_model import LinearRegression\n",
    "from sklearn.model_selection import train_test_split\n",
    "from sklearn.metrics import r2_score"
   ]
  },
  {
   "cell_type": "code",
   "execution_count": null,
   "id": "ce4063b4",
   "metadata": {},
   "outputs": [],
   "source": [
    "# Load Excel file\n",
    "df = pd.read_excel(\"newborn.xlsx\", sheet_name=\"source\")\n",
    "\n",
    "# Primary Cleaning\n",
    "df.columns = df.columns.str.strip().str.lower().str.replace('\\n', '_')\n",
    "df = df.dropna(subset=['case_count', 'number_screened', 'region', 'disease'])\n",
    "\n",
    "# Rename for convenience\n",
    "df = df.rename(columns={\n",
    "    'case_count': 'case_count',\n",
    "    'number_screened': 'number_screened',\n",
    "    'region': 'region',\n",
    "    'disease': 'disease'\n",
    "})"
   ]
  },
  {
   "cell_type": "code",
   "execution_count": null,
   "id": "07798a04",
   "metadata": {},
   "outputs": [],
   "source": [
    "# Convert categorical features to dummy variables\n",
    "df_dummies = pd.get_dummies(df, columns=['region', 'disease'], drop_first=True)\n",
    "\n",
    "# Define X and y\n",
    "X = df_dummies.drop('case_count', axis=1)\n",
    "y = df_dummies['case_count']\n",
    "\n",
    "# Ensure 2D shape for sklearn\n",
    "X = X.values.reshape(-1, X.shape[1])\n",
    "y = y.values.reshape(-1, 1)"
   ]
  },
  {
   "cell_type": "code",
   "execution_count": null,
   "id": "a4deb819",
   "metadata": {},
   "outputs": [],
   "source": [
    "# Split train-test\n",
    "X_train, X_test, y_train, y_test = train_test_split(X, y, test_size=0.2, random_state=42)\n",
    "\n",
    "# Train model\n",
    "model = LinearRegression()\n",
    "model.fit(X_train, y_train)\n",
    "\n",
    "# Predict\n",
    "y_pred = model.predict(X_test)"
   ]
  },
  {
   "cell_type": "code",
   "execution_count": null,
   "id": "d37912a0",
   "metadata": {},
   "outputs": [],
   "source": [
    "# Evaluation\n",
    "print(\"R² score:\", r2_score(y_test, y_pred))\n",
    "print(\"Intercept:\", model.intercept_)\n",
    "print(\"Coefficients:\", model.coef_)"
   ]
  },
  {
   "cell_type": "code",
   "execution_count": null,
   "id": "a6bc48c7",
   "metadata": {},
   "outputs": [],
   "source": [
    "# Optional: plot predicted vs actual\n",
    "plt.scatter(y_test, y_pred, alpha=0.6)\n",
    "plt.xlabel(\"Actual Case Count\")\n",
    "plt.ylabel(\"Predicted Case Count\")\n",
    "plt.title(\"Actual vs Predicted\")\n",
    "plt.plot([y_test.min(), y_test.max()], [y_test.min(), y_test.max()], 'r--')\n",
    "plt.show()"
   ]
  }
 ],
 "metadata": {},
 "nbformat": 4,
 "nbformat_minor": 5
}